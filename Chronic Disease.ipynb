{
 "cells": [
  {
   "cell_type": "code",
   "execution_count": 2,
   "metadata": {},
   "outputs": [],
   "source": [
    "import pandas as pd\n",
    "import matplotlib as plt\n",
    "import numpy as np "
   ]
  },
  {
   "cell_type": "code",
   "execution_count": 3,
   "metadata": {},
   "outputs": [
    {
     "name": "stderr",
     "output_type": "stream",
     "text": [
      "C:\\Users\\a-mac\\Anaconda3\\lib\\site-packages\\IPython\\core\\interactiveshell.py:2785: DtypeWarning: Columns (7,10,18,19,20,21,23,30,31,32,33) have mixed types. Specify dtype option on import or set low_memory=False.\n",
      "  interactivity=interactivity, compiler=compiler, result=result)\n"
     ]
    },
    {
     "data": {
      "text/html": [
       "<div>\n",
       "<style scoped>\n",
       "    .dataframe tbody tr th:only-of-type {\n",
       "        vertical-align: middle;\n",
       "    }\n",
       "\n",
       "    .dataframe tbody tr th {\n",
       "        vertical-align: top;\n",
       "    }\n",
       "\n",
       "    .dataframe thead th {\n",
       "        text-align: right;\n",
       "    }\n",
       "</style>\n",
       "<table border=\"1\" class=\"dataframe\">\n",
       "  <thead>\n",
       "    <tr style=\"text-align: right;\">\n",
       "      <th></th>\n",
       "      <th>YearStart</th>\n",
       "      <th>YearEnd</th>\n",
       "      <th>LocationAbbr</th>\n",
       "      <th>LocationDesc</th>\n",
       "      <th>DataSource</th>\n",
       "      <th>Topic</th>\n",
       "      <th>Question</th>\n",
       "      <th>Response</th>\n",
       "      <th>DataValueUnit</th>\n",
       "      <th>DataValueType</th>\n",
       "      <th>...</th>\n",
       "      <th>LocationID</th>\n",
       "      <th>TopicID</th>\n",
       "      <th>QuestionID</th>\n",
       "      <th>DataValueTypeID</th>\n",
       "      <th>StratificationCategoryID1</th>\n",
       "      <th>StratificationID1</th>\n",
       "      <th>StratificationCategoryID2</th>\n",
       "      <th>StratificationID2</th>\n",
       "      <th>StratificationCategoryID3</th>\n",
       "      <th>StratificationID3</th>\n",
       "    </tr>\n",
       "  </thead>\n",
       "  <tbody>\n",
       "    <tr>\n",
       "      <th>0</th>\n",
       "      <td>2015</td>\n",
       "      <td>2015</td>\n",
       "      <td>AK</td>\n",
       "      <td>Alaska</td>\n",
       "      <td>YRBSS</td>\n",
       "      <td>Alcohol</td>\n",
       "      <td>Alcohol use among youth</td>\n",
       "      <td>NaN</td>\n",
       "      <td>%</td>\n",
       "      <td>Crude Prevalence</td>\n",
       "      <td>...</td>\n",
       "      <td>2</td>\n",
       "      <td>ALC</td>\n",
       "      <td>ALC1_1</td>\n",
       "      <td>CrdPrev</td>\n",
       "      <td>OVERALL</td>\n",
       "      <td>OVR</td>\n",
       "      <td>NaN</td>\n",
       "      <td>NaN</td>\n",
       "      <td>NaN</td>\n",
       "      <td>NaN</td>\n",
       "    </tr>\n",
       "    <tr>\n",
       "      <th>1</th>\n",
       "      <td>2015</td>\n",
       "      <td>2015</td>\n",
       "      <td>AL</td>\n",
       "      <td>Alabama</td>\n",
       "      <td>YRBSS</td>\n",
       "      <td>Alcohol</td>\n",
       "      <td>Alcohol use among youth</td>\n",
       "      <td>NaN</td>\n",
       "      <td>%</td>\n",
       "      <td>Crude Prevalence</td>\n",
       "      <td>...</td>\n",
       "      <td>1</td>\n",
       "      <td>ALC</td>\n",
       "      <td>ALC1_1</td>\n",
       "      <td>CrdPrev</td>\n",
       "      <td>OVERALL</td>\n",
       "      <td>OVR</td>\n",
       "      <td>NaN</td>\n",
       "      <td>NaN</td>\n",
       "      <td>NaN</td>\n",
       "      <td>NaN</td>\n",
       "    </tr>\n",
       "    <tr>\n",
       "      <th>2</th>\n",
       "      <td>2015</td>\n",
       "      <td>2015</td>\n",
       "      <td>AR</td>\n",
       "      <td>Arkansas</td>\n",
       "      <td>YRBSS</td>\n",
       "      <td>Alcohol</td>\n",
       "      <td>Alcohol use among youth</td>\n",
       "      <td>NaN</td>\n",
       "      <td>%</td>\n",
       "      <td>Crude Prevalence</td>\n",
       "      <td>...</td>\n",
       "      <td>5</td>\n",
       "      <td>ALC</td>\n",
       "      <td>ALC1_1</td>\n",
       "      <td>CrdPrev</td>\n",
       "      <td>OVERALL</td>\n",
       "      <td>OVR</td>\n",
       "      <td>NaN</td>\n",
       "      <td>NaN</td>\n",
       "      <td>NaN</td>\n",
       "      <td>NaN</td>\n",
       "    </tr>\n",
       "    <tr>\n",
       "      <th>3</th>\n",
       "      <td>2015</td>\n",
       "      <td>2015</td>\n",
       "      <td>AZ</td>\n",
       "      <td>Arizona</td>\n",
       "      <td>YRBSS</td>\n",
       "      <td>Alcohol</td>\n",
       "      <td>Alcohol use among youth</td>\n",
       "      <td>NaN</td>\n",
       "      <td>%</td>\n",
       "      <td>Crude Prevalence</td>\n",
       "      <td>...</td>\n",
       "      <td>4</td>\n",
       "      <td>ALC</td>\n",
       "      <td>ALC1_1</td>\n",
       "      <td>CrdPrev</td>\n",
       "      <td>OVERALL</td>\n",
       "      <td>OVR</td>\n",
       "      <td>NaN</td>\n",
       "      <td>NaN</td>\n",
       "      <td>NaN</td>\n",
       "      <td>NaN</td>\n",
       "    </tr>\n",
       "    <tr>\n",
       "      <th>4</th>\n",
       "      <td>2015</td>\n",
       "      <td>2015</td>\n",
       "      <td>CA</td>\n",
       "      <td>California</td>\n",
       "      <td>YRBSS</td>\n",
       "      <td>Alcohol</td>\n",
       "      <td>Alcohol use among youth</td>\n",
       "      <td>NaN</td>\n",
       "      <td>%</td>\n",
       "      <td>Crude Prevalence</td>\n",
       "      <td>...</td>\n",
       "      <td>6</td>\n",
       "      <td>ALC</td>\n",
       "      <td>ALC1_1</td>\n",
       "      <td>CrdPrev</td>\n",
       "      <td>OVERALL</td>\n",
       "      <td>OVR</td>\n",
       "      <td>NaN</td>\n",
       "      <td>NaN</td>\n",
       "      <td>NaN</td>\n",
       "      <td>NaN</td>\n",
       "    </tr>\n",
       "  </tbody>\n",
       "</table>\n",
       "<p>5 rows × 34 columns</p>\n",
       "</div>"
      ],
      "text/plain": [
       "   YearStart  YearEnd LocationAbbr LocationDesc DataSource    Topic  \\\n",
       "0       2015     2015           AK       Alaska      YRBSS  Alcohol   \n",
       "1       2015     2015           AL      Alabama      YRBSS  Alcohol   \n",
       "2       2015     2015           AR     Arkansas      YRBSS  Alcohol   \n",
       "3       2015     2015           AZ      Arizona      YRBSS  Alcohol   \n",
       "4       2015     2015           CA   California      YRBSS  Alcohol   \n",
       "\n",
       "                  Question Response DataValueUnit     DataValueType  \\\n",
       "0  Alcohol use among youth      NaN             %  Crude Prevalence   \n",
       "1  Alcohol use among youth      NaN             %  Crude Prevalence   \n",
       "2  Alcohol use among youth      NaN             %  Crude Prevalence   \n",
       "3  Alcohol use among youth      NaN             %  Crude Prevalence   \n",
       "4  Alcohol use among youth      NaN             %  Crude Prevalence   \n",
       "\n",
       "         ...        LocationID  TopicID QuestionID DataValueTypeID  \\\n",
       "0        ...                 2      ALC     ALC1_1         CrdPrev   \n",
       "1        ...                 1      ALC     ALC1_1         CrdPrev   \n",
       "2        ...                 5      ALC     ALC1_1         CrdPrev   \n",
       "3        ...                 4      ALC     ALC1_1         CrdPrev   \n",
       "4        ...                 6      ALC     ALC1_1         CrdPrev   \n",
       "\n",
       "   StratificationCategoryID1  StratificationID1 StratificationCategoryID2  \\\n",
       "0                    OVERALL                OVR                       NaN   \n",
       "1                    OVERALL                OVR                       NaN   \n",
       "2                    OVERALL                OVR                       NaN   \n",
       "3                    OVERALL                OVR                       NaN   \n",
       "4                    OVERALL                OVR                       NaN   \n",
       "\n",
       "  StratificationID2 StratificationCategoryID3 StratificationID3  \n",
       "0               NaN                       NaN               NaN  \n",
       "1               NaN                       NaN               NaN  \n",
       "2               NaN                       NaN               NaN  \n",
       "3               NaN                       NaN               NaN  \n",
       "4               NaN                       NaN               NaN  \n",
       "\n",
       "[5 rows x 34 columns]"
      ]
     },
     "execution_count": 3,
     "metadata": {},
     "output_type": "execute_result"
    }
   ],
   "source": [
    "chronic_disease_file = \"Resources/U.S._Chronic_Disease_Indicators.csv\"\n",
    "economic_info_file = \"Resources/kaggle_income.csv\"\n",
    "\n",
    "cdc_data = pd.read_csv(chronic_disease_file)\n",
    "cdc_data.head()"
   ]
  },
  {
   "cell_type": "code",
   "execution_count": 4,
   "metadata": {},
   "outputs": [
    {
     "data": {
      "text/plain": [
       "Topic\n",
       "Alcohol                                            27697\n",
       "Arthritis                                          31652\n",
       "Asthma                                             31958\n",
       "Cancer                                             11605\n",
       "Cardiovascular Disease                             62678\n",
       "Chronic Kidney Disease                             11525\n",
       "Chronic Obstructive Pulmonary Disease              52536\n",
       "Diabetes                                           67342\n",
       "Disability                                            55\n",
       "Immunization                                        3838\n",
       "Mental Health                                       5595\n",
       "Nutrition, Physical Activity, and Weight Status    29512\n",
       "Older Adults                                        4003\n",
       "Oral Health                                         7593\n",
       "Overarching Conditions                             30092\n",
       "Reproductive Health                                 1735\n",
       "Tobacco                                            24568\n",
       "Name: TopicID, dtype: int64"
      ]
     },
     "execution_count": 4,
     "metadata": {},
     "output_type": "execute_result"
    }
   ],
   "source": [
    "topic_counts=cdc_data.groupby(\"Topic\")[\"TopicID\"].count()\n",
    "topic_counts"
   ]
  },
  {
   "cell_type": "code",
   "execution_count": 5,
   "metadata": {},
   "outputs": [],
   "source": [
    "economic_data = pd.read_csv(economic_info_file, encoding=\"latin-1\")\n",
    "#economic_data.head()"
   ]
  },
  {
   "cell_type": "code",
   "execution_count": 23,
   "metadata": {},
   "outputs": [],
   "source": [
    "alcohol_topics = cdc_data.loc[cdc_data[\"Topic\"] == \"Alcohol\"]\n",
    "#alcohol_topics"
   ]
  },
  {
   "cell_type": "code",
   "execution_count": 24,
   "metadata": {},
   "outputs": [],
   "source": [
    "#alcohol_topics.groupby(\"DataValueType\").head()"
   ]
  },
  {
   "cell_type": "code",
   "execution_count": 25,
   "metadata": {},
   "outputs": [],
   "source": [
    "alcohol_topics2 = alcohol_topics.filter([\"YearEnd\",\"LocationDesc\",\"Topic\",\"Question\",\"DataValueType\",\"DataValue\",\"GeoLocation\",\"StratificationCategory1\",\"Stratification1\"])\n",
    "\n",
    "#alcohol_topics2.head()"
   ]
  },
  {
   "cell_type": "code",
   "execution_count": 26,
   "metadata": {},
   "outputs": [],
   "source": [
    "arthritis_topics = cdc_data.loc[cdc_data[\"Topic\"] == \"Arthritis\"]\n",
    "arthritis_topics2 = arthritis_topics.filter([\"YearEnd\",\"LocationDesc\",\"Topic\",\"Question\",\"DataValueType\",\"DataValue\",\"GeoLocation\",\"StratificationCategory1\",\"Stratification1\"])\n"
   ]
  },
  {
   "cell_type": "code",
   "execution_count": 27,
   "metadata": {},
   "outputs": [],
   "source": [
    "asthma_topics = cdc_data.loc[cdc_data[\"Topic\"] == \"Asthma\"]\n",
    "asthma_topics2 = asthma_topics.filter([\"YearEnd\",\"LocationDesc\",\"Topic\",\"Question\",\"DataValueType\",\"DataValue\",\"GeoLocation\",\"StratificationCategory1\",\"Stratification1\"])\n"
   ]
  },
  {
   "cell_type": "code",
   "execution_count": 28,
   "metadata": {},
   "outputs": [],
   "source": [
    "cancer_topics = cdc_data.loc[cdc_data[\"Topic\"] == \"Cancer\"]\n",
    "cancer_topics2 = cancer_topics.filter([\"YearEnd\",\"LocationDesc\",\"Topic\",\"Question\",\"DataValueType\",\"DataValue\",\"GeoLocation\",\"StratificationCategory1\",\"Stratification1\"])\n"
   ]
  },
  {
   "cell_type": "code",
   "execution_count": 29,
   "metadata": {},
   "outputs": [],
   "source": [
    "cardiovascular_disease_topics = cdc_data.loc[cdc_data[\"Topic\"] == \"Cardiovascular Disease\"]\n",
    "cardiovascular_disease_topics2 = cardiovascular_disease_topics.filter([\"YearEnd\",\"LocationDesc\",\"Topic\",\"Question\",\"DataValueType\",\"DataValue\",\"GeoLocation\",\"StratificationCategory1\",\"Stratification1\"])\n"
   ]
  },
  {
   "cell_type": "code",
   "execution_count": 30,
   "metadata": {},
   "outputs": [],
   "source": [
    "chronic_obstructive_pulmonary_disease_topics = cdc_data.loc[cdc_data[\"Topic\"] == \"Chronic Obstructive Pulmonary Disease\"]\n",
    "chronic_obstructive_pulmonary_disease_topics2 = cancer_topics.filter([\"YearEnd\",\"LocationDesc\",\"Topic\",\"Question\",\"DataValueType\",\"DataValue\",\"GeoLocation\",\"StratificationCategory1\",\"Stratification1\"])\n"
   ]
  },
  {
   "cell_type": "code",
   "execution_count": 31,
   "metadata": {},
   "outputs": [],
   "source": [
    "diabetes_topics = cdc_data.loc[cdc_data[\"Topic\"] == \"Diabetes\"]\n",
    "diabetes_topics2 = diabetes_topics.filter([\"YearEnd\",\"LocationDesc\",\"Topic\",\"Question\",\"DataValueType\",\"DataValue\",\"GeoLocation\",\"StratificationCategory1\",\"Stratification1\"])\n"
   ]
  },
  {
   "cell_type": "code",
   "execution_count": 32,
   "metadata": {},
   "outputs": [],
   "source": [
    "nutrition_physical_activity_weight_status_topics = cdc_data.loc[cdc_data[\"Topic\"] == \"Nutrition, Physical Activity, and Weight Status\"]\n",
    "nutrition_physical_activity_weight_status_topics2 = nutrition_physical_activity_weight_status_topics.filter([\"YearEnd\",\"LocationDesc\",\"Topic\",\"Question\",\"DataValueType\",\"DataValue\",\"GeoLocation\",\"StratificationCategory1\",\"Stratification1\"])\n"
   ]
  },
  {
   "cell_type": "code",
   "execution_count": 33,
   "metadata": {},
   "outputs": [],
   "source": [
    "overarching_conditions_topics = cdc_data.loc[cdc_data[\"Topic\"] == \"Overarching Conditions\"]\n",
    "overarching_conditions_topics2 = overarching_conditions_topics.filter([\"YearEnd\",\"LocationDesc\",\"Topic\",\"Question\",\"DataValueType\",\"DataValue\",\"GeoLocation\",\"StratificationCategory1\",\"Stratification1\"])\n"
   ]
  },
  {
   "cell_type": "code",
   "execution_count": 34,
   "metadata": {},
   "outputs": [],
   "source": [
    "tobacco_topics = cdc_data.loc[cdc_data[\"Topic\"] == \"Tobacco\"]\n",
    "tobacco_topics2 = tobacco_topics.filter([\"YearEnd\",\"LocationDesc\",\"Topic\",\"Question\",\"DataValueType\",\"DataValue\",\"GeoLocation\",\"StratificationCategory1\",\"Stratification1\"])\n"
   ]
  },
  {
   "cell_type": "code",
   "execution_count": null,
   "metadata": {},
   "outputs": [],
   "source": []
  }
 ],
 "metadata": {
  "kernelspec": {
   "display_name": "Python 3",
   "language": "python",
   "name": "python3"
  },
  "language_info": {
   "codemirror_mode": {
    "name": "ipython",
    "version": 3
   },
   "file_extension": ".py",
   "mimetype": "text/x-python",
   "name": "python",
   "nbconvert_exporter": "python",
   "pygments_lexer": "ipython3",
   "version": "3.6.5"
  }
 },
 "nbformat": 4,
 "nbformat_minor": 2
}
