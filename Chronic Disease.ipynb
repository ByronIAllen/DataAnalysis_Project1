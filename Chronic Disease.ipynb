{
 "cells": [
  {
   "cell_type": "code",
   "execution_count": 1,
   "metadata": {},
   "outputs": [],
   "source": [
    "import pandas as pd\n",
    "import matplotlib as plt\n",
    "import numpy as np "
   ]
  },
  {
   "cell_type": "code",
   "execution_count": 2,
   "metadata": {},
   "outputs": [
    {
     "data": {
      "text/html": [
       "<div>\n",
       "<style scoped>\n",
       "    .dataframe tbody tr th:only-of-type {\n",
       "        vertical-align: middle;\n",
       "    }\n",
       "\n",
       "    .dataframe tbody tr th {\n",
       "        vertical-align: top;\n",
       "    }\n",
       "\n",
       "    .dataframe thead th {\n",
       "        text-align: right;\n",
       "    }\n",
       "</style>\n",
       "<table border=\"1\" class=\"dataframe\">\n",
       "  <thead>\n",
       "    <tr style=\"text-align: right;\">\n",
       "      <th></th>\n",
       "      <th>YearEnd</th>\n",
       "      <th>LocationAbbr</th>\n",
       "      <th>LocationDesc</th>\n",
       "      <th>Topic</th>\n",
       "      <th>Question</th>\n",
       "      <th>Response</th>\n",
       "      <th>DataValueUnit</th>\n",
       "      <th>DataValueType</th>\n",
       "      <th>DataValue</th>\n",
       "      <th>DatavalueFootnote</th>\n",
       "      <th>LowConfidenceLimit</th>\n",
       "      <th>HighConfidenceLimit</th>\n",
       "      <th>StratificationCategory1</th>\n",
       "      <th>Stratification1</th>\n",
       "      <th>GeoLocation</th>\n",
       "    </tr>\n",
       "  </thead>\n",
       "  <tbody>\n",
       "    <tr>\n",
       "      <th>0</th>\n",
       "      <td>2015</td>\n",
       "      <td>AK</td>\n",
       "      <td>Alaska</td>\n",
       "      <td>Alcohol</td>\n",
       "      <td>Alcohol use among youth</td>\n",
       "      <td>NaN</td>\n",
       "      <td>%</td>\n",
       "      <td>Crude Prevalence</td>\n",
       "      <td>22</td>\n",
       "      <td>NaN</td>\n",
       "      <td>19.7</td>\n",
       "      <td>24.5</td>\n",
       "      <td>Overall</td>\n",
       "      <td>Overall</td>\n",
       "      <td>(64.84507995700051, -147.72205903599973)</td>\n",
       "    </tr>\n",
       "    <tr>\n",
       "      <th>1</th>\n",
       "      <td>2015</td>\n",
       "      <td>AL</td>\n",
       "      <td>Alabama</td>\n",
       "      <td>Alcohol</td>\n",
       "      <td>Alcohol use among youth</td>\n",
       "      <td>NaN</td>\n",
       "      <td>%</td>\n",
       "      <td>Crude Prevalence</td>\n",
       "      <td>30.7</td>\n",
       "      <td>NaN</td>\n",
       "      <td>27.3</td>\n",
       "      <td>34.3</td>\n",
       "      <td>Overall</td>\n",
       "      <td>Overall</td>\n",
       "      <td>(32.84057112200048, -86.63186076199969)</td>\n",
       "    </tr>\n",
       "    <tr>\n",
       "      <th>2</th>\n",
       "      <td>2015</td>\n",
       "      <td>AR</td>\n",
       "      <td>Arkansas</td>\n",
       "      <td>Alcohol</td>\n",
       "      <td>Alcohol use among youth</td>\n",
       "      <td>NaN</td>\n",
       "      <td>%</td>\n",
       "      <td>Crude Prevalence</td>\n",
       "      <td>27.6</td>\n",
       "      <td>NaN</td>\n",
       "      <td>24.5</td>\n",
       "      <td>30.8</td>\n",
       "      <td>Overall</td>\n",
       "      <td>Overall</td>\n",
       "      <td>(34.74865012400045, -92.27449074299966)</td>\n",
       "    </tr>\n",
       "    <tr>\n",
       "      <th>3</th>\n",
       "      <td>2015</td>\n",
       "      <td>AZ</td>\n",
       "      <td>Arizona</td>\n",
       "      <td>Alcohol</td>\n",
       "      <td>Alcohol use among youth</td>\n",
       "      <td>NaN</td>\n",
       "      <td>%</td>\n",
       "      <td>Crude Prevalence</td>\n",
       "      <td>34.8</td>\n",
       "      <td>NaN</td>\n",
       "      <td>29.7</td>\n",
       "      <td>40.2</td>\n",
       "      <td>Overall</td>\n",
       "      <td>Overall</td>\n",
       "      <td>(34.865970280000454, -111.76381127699972)</td>\n",
       "    </tr>\n",
       "    <tr>\n",
       "      <th>4</th>\n",
       "      <td>2015</td>\n",
       "      <td>CA</td>\n",
       "      <td>California</td>\n",
       "      <td>Alcohol</td>\n",
       "      <td>Alcohol use among youth</td>\n",
       "      <td>NaN</td>\n",
       "      <td>%</td>\n",
       "      <td>Crude Prevalence</td>\n",
       "      <td>28.9</td>\n",
       "      <td>NaN</td>\n",
       "      <td>23.6</td>\n",
       "      <td>34.7</td>\n",
       "      <td>Overall</td>\n",
       "      <td>Overall</td>\n",
       "      <td>(37.63864012300047, -120.99999953799971)</td>\n",
       "    </tr>\n",
       "  </tbody>\n",
       "</table>\n",
       "</div>"
      ],
      "text/plain": [
       "   YearEnd LocationAbbr LocationDesc    Topic                 Question  \\\n",
       "0     2015           AK       Alaska  Alcohol  Alcohol use among youth   \n",
       "1     2015           AL      Alabama  Alcohol  Alcohol use among youth   \n",
       "2     2015           AR     Arkansas  Alcohol  Alcohol use among youth   \n",
       "3     2015           AZ      Arizona  Alcohol  Alcohol use among youth   \n",
       "4     2015           CA   California  Alcohol  Alcohol use among youth   \n",
       "\n",
       "  Response DataValueUnit     DataValueType DataValue DatavalueFootnote  \\\n",
       "0      NaN             %  Crude Prevalence        22               NaN   \n",
       "1      NaN             %  Crude Prevalence      30.7               NaN   \n",
       "2      NaN             %  Crude Prevalence      27.6               NaN   \n",
       "3      NaN             %  Crude Prevalence      34.8               NaN   \n",
       "4      NaN             %  Crude Prevalence      28.9               NaN   \n",
       "\n",
       "   LowConfidenceLimit  HighConfidenceLimit StratificationCategory1  \\\n",
       "0                19.7                 24.5                 Overall   \n",
       "1                27.3                 34.3                 Overall   \n",
       "2                24.5                 30.8                 Overall   \n",
       "3                29.7                 40.2                 Overall   \n",
       "4                23.6                 34.7                 Overall   \n",
       "\n",
       "  Stratification1                                GeoLocation  \n",
       "0         Overall   (64.84507995700051, -147.72205903599973)  \n",
       "1         Overall    (32.84057112200048, -86.63186076199969)  \n",
       "2         Overall    (34.74865012400045, -92.27449074299966)  \n",
       "3         Overall  (34.865970280000454, -111.76381127699972)  \n",
       "4         Overall   (37.63864012300047, -120.99999953799971)  "
      ]
     },
     "execution_count": 2,
     "metadata": {},
     "output_type": "execute_result"
    }
   ],
   "source": [
    "chronic_disease_file = \"Resources/U.S._Chronic_Disease_Indicators.csv\"\n",
    "economic_info_file = \"Resources/kaggle_income.csv\"\n",
    "\n",
    "cdc_data = pd.read_csv(chronic_disease_file)\n",
    "cdc_data.head()"
   ]
  },
  {
   "cell_type": "code",
   "execution_count": 3,
   "metadata": {},
   "outputs": [
    {
     "data": {
      "text/plain": [
       "Topic\n",
       "Alcohol                                            27697\n",
       "Arthritis                                          31652\n",
       "Asthma                                             31958\n",
       "Cancer                                             11605\n",
       "Cardiovascular Disease                             62678\n",
       "Chronic Kidney Disease                             11525\n",
       "Chronic Obstructive Pulmonary Disease              52536\n",
       "Diabetes                                           67342\n",
       "Disability                                            55\n",
       "Immunization                                        3838\n",
       "Mental Health                                       5595\n",
       "Nutrition, Physical Activity, and Weight Status    29512\n",
       "Older Adults                                        4003\n",
       "Oral Health                                         7593\n",
       "Overarching Conditions                             30092\n",
       "Reproductive Health                                 1735\n",
       "Tobacco                                            24568\n",
       "Name: Question, dtype: int64"
      ]
     },
     "execution_count": 3,
     "metadata": {},
     "output_type": "execute_result"
    }
   ],
   "source": [
    "topic_counts=cdc_data.groupby(\"Topic\")[\"Question\"].count()\n",
    "topic_counts"
   ]
  },
  {
   "cell_type": "code",
   "execution_count": 4,
   "metadata": {},
   "outputs": [],
   "source": [
    "economic_data = pd.read_csv(economic_info_file, encoding=\"latin-1\")\n",
    "#economic_data.head()"
   ]
  },
  {
   "cell_type": "code",
   "execution_count": 5,
   "metadata": {},
   "outputs": [],
   "source": [
    "alcohol_topics = cdc_data.loc[cdc_data[\"Topic\"] == \"Alcohol\"]\n",
    "#alcohol_topics"
   ]
  },
  {
   "cell_type": "code",
   "execution_count": 6,
   "metadata": {},
   "outputs": [],
   "source": [
    "#alcohol_topics.groupby(\"DataValueType\").head()"
   ]
  },
  {
   "cell_type": "code",
   "execution_count": 7,
   "metadata": {},
   "outputs": [],
   "source": [
    "alcohol_topics2 = alcohol_topics.filter([\"YearEnd\",\"LocationDesc\",\"Topic\",\"Question\",\"DataValueType\",\"DataValue\",\"GeoLocation\",\"StratificationCategory1\",\"Stratification1\"])\n",
    "\n",
    "#alcohol_topics2.head()"
   ]
  },
  {
   "cell_type": "code",
   "execution_count": 8,
   "metadata": {},
   "outputs": [],
   "source": [
    "arthritis_topics = cdc_data.loc[cdc_data[\"Topic\"] == \"Arthritis\"]\n",
    "arthritis_topics2 = arthritis_topics.filter([\"YearEnd\",\"LocationDesc\",\"Topic\",\"Question\",\"DataValueType\",\"DataValue\",\"GeoLocation\",\"StratificationCategory1\",\"Stratification1\"])\n"
   ]
  },
  {
   "cell_type": "code",
   "execution_count": 9,
   "metadata": {},
   "outputs": [],
   "source": [
    "asthma_topics = cdc_data.loc[cdc_data[\"Topic\"] == \"Asthma\"]\n",
    "asthma_topics2 = asthma_topics.filter([\"YearEnd\",\"LocationDesc\",\"Topic\",\"Question\",\"DataValueType\",\"DataValue\",\"GeoLocation\",\"StratificationCategory1\",\"Stratification1\"])\n"
   ]
  },
  {
   "cell_type": "code",
   "execution_count": 10,
   "metadata": {},
   "outputs": [],
   "source": [
    "cancer_topics = cdc_data.loc[cdc_data[\"Topic\"] == \"Cancer\"]\n",
    "cancer_topics2 = cancer_topics.filter([\"YearEnd\",\"LocationDesc\",\"Topic\",\"Question\",\"DataValueType\",\"DataValue\",\"GeoLocation\",\"StratificationCategory1\",\"Stratification1\"])\n"
   ]
  },
  {
   "cell_type": "code",
   "execution_count": 11,
   "metadata": {},
   "outputs": [],
   "source": [
    "cardiovascular_disease_topics = cdc_data.loc[cdc_data[\"Topic\"] == \"Cardiovascular Disease\"]\n",
    "cardiovascular_disease_topics2 = cardiovascular_disease_topics.filter([\"YearEnd\",\"LocationDesc\",\"Topic\",\"Question\",\"DataValueType\",\"DataValue\",\"GeoLocation\",\"StratificationCategory1\",\"Stratification1\"])\n"
   ]
  },
  {
   "cell_type": "code",
   "execution_count": 12,
   "metadata": {},
   "outputs": [],
   "source": [
    "chronic_obstructive_pulmonary_disease_topics = cdc_data.loc[cdc_data[\"Topic\"] == \"Chronic Obstructive Pulmonary Disease\"]\n",
    "chronic_obstructive_pulmonary_disease_topics2 = cancer_topics.filter([\"YearEnd\",\"LocationDesc\",\"Topic\",\"Question\",\"DataValueType\",\"DataValue\",\"GeoLocation\",\"StratificationCategory1\",\"Stratification1\"])\n"
   ]
  },
  {
   "cell_type": "code",
   "execution_count": 13,
   "metadata": {},
   "outputs": [],
   "source": [
    "diabetes_topics = cdc_data.loc[cdc_data[\"Topic\"] == \"Diabetes\"]\n",
    "diabetes_topics2 = diabetes_topics.filter([\"YearEnd\",\"LocationDesc\",\"Topic\",\"Question\",\"DataValueType\",\"DataValue\",\"GeoLocation\",\"StratificationCategory1\",\"Stratification1\"])\n"
   ]
  },
  {
   "cell_type": "code",
   "execution_count": 14,
   "metadata": {},
   "outputs": [],
   "source": [
    "nutrition_physical_activity_weight_status_topics = cdc_data.loc[cdc_data[\"Topic\"] == \"Nutrition, Physical Activity, and Weight Status\"]\n",
    "nutrition_physical_activity_weight_status_topics2 = nutrition_physical_activity_weight_status_topics.filter([\"YearEnd\",\"LocationDesc\",\"Topic\",\"Question\",\"DataValueType\",\"DataValue\",\"GeoLocation\",\"StratificationCategory1\",\"Stratification1\"])\n"
   ]
  },
  {
   "cell_type": "code",
   "execution_count": 15,
   "metadata": {},
   "outputs": [],
   "source": [
    "overarching_conditions_topics = cdc_data.loc[cdc_data[\"Topic\"] == \"Overarching Conditions\"]\n",
    "overarching_conditions_topics2 = overarching_conditions_topics.filter([\"YearEnd\",\"LocationDesc\",\"Topic\",\"Question\",\"DataValueType\",\"DataValue\",\"GeoLocation\",\"StratificationCategory1\",\"Stratification1\"])\n"
   ]
  },
  {
   "cell_type": "code",
   "execution_count": 16,
   "metadata": {},
   "outputs": [],
   "source": [
    "tobacco_topics = cdc_data.loc[cdc_data[\"Topic\"] == \"Tobacco\"]\n",
    "tobacco_topics2 = tobacco_topics.filter([\"YearEnd\",\"LocationDesc\",\"Topic\",\"Question\",\"DataValueType\",\"DataValue\",\"GeoLocation\",\"StratificationCategory1\",\"Stratification1\"])\n",
    "#tobacco_topics2.head()"
   ]
  },
  {
   "cell_type": "code",
   "execution_count": 17,
   "metadata": {},
   "outputs": [],
   "source": [
    "tobacco_crudeprev = tobacco_topics2.loc[tobacco_topics2[\"DataValueType\"] == \"Crude Prevalence\"]\n",
    "#tobacco_crudeprev.head()"
   ]
  },
  {
   "cell_type": "code",
   "execution_count": 18,
   "metadata": {},
   "outputs": [
    {
     "data": {
      "text/plain": [
       "Question\n",
       "Alcohol use among youth                                                     84\n",
       "Alcohol use before pregnancy                                                23\n",
       "Amount of alcohol excise tax by beverage type (beer)                       100\n",
       "Amount of alcohol excise tax by beverage type (distilled spirits)           68\n",
       "Amount of alcohol excise tax by beverage type (wine)                        78\n",
       "Binge drinking frequency among adults aged >= 18 years who binge drink    2760\n",
       "Binge drinking intensity among adults aged >= 18 years who binge drink    2733\n",
       "Binge drinking prevalence among adults aged >= 18 years                   3630\n",
       "Binge drinking prevalence among women aged 18-44 years                     809\n",
       "Binge drinking prevalence among youth                                       85\n",
       "Chronic liver disease mortality                                           6135\n",
       "Commercial host (dram shop) liability laws                                 102\n",
       "Heavy drinking among adults aged >= 18 years                              2746\n",
       "Heavy drinking among women aged 18-44 years                                572\n",
       "Local authority to regulate alcohol outlet density                         100\n",
       "Per capita alcohol consumption among persons aged >= 14 years              104\n",
       "Name: DataValue, dtype: int64"
      ]
     },
     "execution_count": 18,
     "metadata": {},
     "output_type": "execute_result"
    }
   ],
   "source": [
    "alcohol_questions_counts = alcohol_topics2.groupby(\"Question\")[\"DataValue\"].count()\n",
    "alcohol_questions_counts"
   ]
  },
  {
   "cell_type": "code",
   "execution_count": 19,
   "metadata": {},
   "outputs": [
    {
     "data": {
      "text/plain": [
       "Question\n",
       "Activity limitation due to arthritis among adults aged >= 18 years                                         2148\n",
       "Adults aged >= 18 years with arthritis who have taken a class to learn how to manage arthritis symptoms     331\n",
       "Arthritis among adults aged >= 18 years                                                                    4068\n",
       "Arthritis among adults aged >= 18 years who are obese                                                      3324\n",
       "Arthritis among adults aged >= 18 years who have diabetes                                                  2929\n",
       "Arthritis among adults aged >= 18 years who have heart disease                                             2713\n",
       "Fair or poor health among adults aged >= 18 years with arthritis                                           3415\n",
       "Physical inactivity among adults aged >= 18 years with arthritis                                           3327\n",
       "Name: DataValue, dtype: int64"
      ]
     },
     "execution_count": 19,
     "metadata": {},
     "output_type": "execute_result"
    }
   ],
   "source": [
    "arthritis_questions_counts = arthritis_topics2.groupby(\"Question\")[\"DataValue\"].count()\n",
    "arthritis_questions_counts"
   ]
  },
  {
   "cell_type": "code",
   "execution_count": 20,
   "metadata": {},
   "outputs": [
    {
     "data": {
      "text/plain": [
       "Question\n",
       "Asthma mortality rate                                                                      6135\n",
       "Asthma prevalence among women aged 18-44 years                                              802\n",
       "Current asthma prevalence among adults aged >= 18 years                                    3434\n",
       "Emergency department visit rate for asthma                                                  801\n",
       "Hospitalizations for asthma                                                                1332\n",
       "Influenza vaccination among noninstitutionalized adults aged 18-64 years with asthma       2551\n",
       "Influenza vaccination among noninstitutionalized adults aged >= 65 years with asthma       1972\n",
       "Pneumococcal vaccination among noninstitutionalized adults aged 18-64 years with asthma    2480\n",
       "Pneumococcal vaccination among noninstitutionalized adults aged >= 65 years with asthma    1954\n",
       "Name: DataValue, dtype: int64"
      ]
     },
     "execution_count": 20,
     "metadata": {},
     "output_type": "execute_result"
    }
   ],
   "source": [
    "asthma_questions_counts = asthma_topics2.groupby(\"Question\")[\"DataValue\"].count()\n",
    "asthma_questions_counts"
   ]
  },
  {
   "cell_type": "code",
   "execution_count": 21,
   "metadata": {},
   "outputs": [
    {
     "data": {
      "text/plain": [
       "Question\n",
       "Cancer of the colon and recturm (colorectal), incidence                                  153\n",
       "Cancer of the colon and recturm (colorectal), mortality                                  156\n",
       "Cancer of the female breast, mortality                                                   156\n",
       "Cancer of the female cervix, mortality                                                   156\n",
       "Cancer of the lung and bronchus, incidence                                               153\n",
       "Cancer of the lung and bronchus, mortality                                               156\n",
       "Cancer of the oral cavity and pharynx, mortality                                         156\n",
       "Cancer of the prostate, mortality                                                        156\n",
       "Fecal occult blood test, sigmoidoscopy, or colonoscopy among adults aged 50-75 years    1590\n",
       "Invasive cancer (all sites combined), incidence                                          153\n",
       "Invasive cancer (all sites combined), mortality                                          156\n",
       "Invasive cancer of the cervix, incidence                                                 153\n",
       "Invasive cancer of the female breast, incidence                                          153\n",
       "Invasive cancer of the oral cavity or pharynx, incidence                                 153\n",
       "Invasive cancer of the prostate, incidence                                               153\n",
       "Invasive melanoma, incidence                                                             153\n",
       "Mammography use among women aged 50-74 years                                             877\n",
       "Melanoma, mortality                                                                      156\n",
       "Papanicolaou smear use among adult women aged 21-65 years                               1028\n",
       "Recent Papanicolaou smear use among women aged 21-44 years                               432\n",
       "Name: DataValue, dtype: int64"
      ]
     },
     "execution_count": 21,
     "metadata": {},
     "output_type": "execute_result"
    }
   ],
   "source": [
    "cancer_questions_counts = cancer_topics2.groupby(\"Question\")[\"DataValue\"].count()\n",
    "cancer_questions_counts"
   ]
  },
  {
   "cell_type": "code",
   "execution_count": 22,
   "metadata": {},
   "outputs": [
    {
     "data": {
      "text/plain": [
       "Question\n",
       "Awareness of high blood pressure among adults aged >= 18 years                                                                 2422\n",
       "Awareness of high blood pressure among women aged 18-44 years                                                                   512\n",
       "Cholesterol screening among adults aged >= 18 years                                                                            2442\n",
       "High cholesterol prevalence among adults aged >= 18 years                                                                      2382\n",
       "Hospitalization for acute myocardial infarction                                                                                1332\n",
       "Hospitalization for heart failure among Medicare-eligible persons aged >= 65 years                                              468\n",
       "Hospitalization for stroke                                                                                                     1332\n",
       "Influenza vaccination among noninstitutionalized adults aged 18-64 years with a history of coronary heart disease or stroke    2386\n",
       "Influenza vaccination among noninstitutionalized adults aged >= 65 years with a history of coronary heart disease or stroke    2354\n",
       "Mortality from cerebrovascular disease (stroke)                                                                                6135\n",
       "Mortality from coronary heart disease                                                                                          6135\n",
       "Mortality from diseases of the heart                                                                                           6135\n",
       "Mortality from heart failure                                                                                                   6136\n",
       "Mortality from total cardiovascular diseases                                                                                   6135\n",
       "Pneumococcal vaccination among noninstitutionalized adults aged 18-64 years with a history of coronary heart disease           2191\n",
       "Pneumococcal vaccination among noninstitutionalized adults aged >= 65 years with a history of coronary heart disease           2246\n",
       "Pre-pregnancy hypertension                                                                                                        9\n",
       "Taking medicine for high blood pressure control among adults aged >= 18 years with high blood pressure                         2064\n",
       "Name: DataValue, dtype: int64"
      ]
     },
     "execution_count": 22,
     "metadata": {},
     "output_type": "execute_result"
    }
   ],
   "source": [
    "cardiovascular_disease_questions_counts = cardiovascular_disease_topics2.groupby(\"Question\")[\"DataValue\"].count()\n",
    "cardiovascular_disease_questions_counts"
   ]
  },
  {
   "cell_type": "code",
   "execution_count": 23,
   "metadata": {},
   "outputs": [
    {
     "data": {
      "text/plain": [
       "Question\n",
       "Cancer of the colon and recturm (colorectal), incidence                                  153\n",
       "Cancer of the colon and recturm (colorectal), mortality                                  156\n",
       "Cancer of the female breast, mortality                                                   156\n",
       "Cancer of the female cervix, mortality                                                   156\n",
       "Cancer of the lung and bronchus, incidence                                               153\n",
       "Cancer of the lung and bronchus, mortality                                               156\n",
       "Cancer of the oral cavity and pharynx, mortality                                         156\n",
       "Cancer of the prostate, mortality                                                        156\n",
       "Fecal occult blood test, sigmoidoscopy, or colonoscopy among adults aged 50-75 years    1590\n",
       "Invasive cancer (all sites combined), incidence                                          153\n",
       "Invasive cancer (all sites combined), mortality                                          156\n",
       "Invasive cancer of the cervix, incidence                                                 153\n",
       "Invasive cancer of the female breast, incidence                                          153\n",
       "Invasive cancer of the oral cavity or pharynx, incidence                                 153\n",
       "Invasive cancer of the prostate, incidence                                               153\n",
       "Invasive melanoma, incidence                                                             153\n",
       "Mammography use among women aged 50-74 years                                             877\n",
       "Melanoma, mortality                                                                      156\n",
       "Papanicolaou smear use among adult women aged 21-65 years                               1028\n",
       "Recent Papanicolaou smear use among women aged 21-44 years                               432\n",
       "Name: DataValue, dtype: int64"
      ]
     },
     "execution_count": 23,
     "metadata": {},
     "output_type": "execute_result"
    }
   ],
   "source": [
    "chronic_obstructive_pulmonary_disease_questions_counts = chronic_obstructive_pulmonary_disease_topics2.groupby(\"Question\")[\"DataValue\"].count()\n",
    "chronic_obstructive_pulmonary_disease_questions_counts"
   ]
  },
  {
   "cell_type": "code",
   "execution_count": 24,
   "metadata": {},
   "outputs": [
    {
     "data": {
      "text/plain": [
       "Question\n",
       "Adults with diagnosed diabetes aged >= 18 years who have taken a diabetes self-management course       1897\n",
       "Amputation of a lower extremity attributable to diabetes                                               1332\n",
       "Diabetes prevalence among women aged 18-44 years                                                        661\n",
       "Dilated eye examination among adults aged >= 18 years with diagnosed diabetes                          1894\n",
       "Foot examination among adults aged >= 18 years with diagnosed diabetes                                 1889\n",
       "Glycosylated hemoglobin measurement among adults aged >= 18 years with diagnosed diabetes              1868\n",
       "Hospitalization with diabetes as a listed diagnosis                                                    1332\n",
       "Influenza vaccination among noninstitutionalized adults aged 18-64 years with diagnosed diabetes       2592\n",
       "Influenza vaccination among noninstitutionalized adults aged >= 65 years with diagnosed diabetes       2464\n",
       "Mortality due to diabetes reported as any listed cause of death                                        6135\n",
       "Mortality with diabetic ketoacidosis reported as any listed cause of death                             6135\n",
       "Pneumococcal vaccination among noninstitutionalized adults aged 18-64 years with diagnosed diabetes    2546\n",
       "Pneumococcal vaccination among noninstitutionalized adults aged >= 65 years with diagnosed diabetes    2438\n",
       "Prevalence of depressive disorders among adults aged >= 18 years with diagnosed diabetes               2615\n",
       "Prevalence of diagnosed diabetes among adults aged >= 18 years                                         3514\n",
       "Prevalence of gestational diabetes                                                                       52\n",
       "Prevalence of high blood pressure among adults aged >= 18 years with diagnosed diabetes                1810\n",
       "Prevalence of high cholesterol among adults aged >= 18 years with diagnosed diabetes                   1789\n",
       "Prevalence of pre-pregnancy diabetes                                                                     23\n",
       "Visits to dentist or dental clinic among adults aged >= 18 years with diagnosed diabetes               1123\n",
       "Name: DataValue, dtype: int64"
      ]
     },
     "execution_count": 24,
     "metadata": {},
     "output_type": "execute_result"
    }
   ],
   "source": [
    "diabetes_questions_counts = diabetes_topics2.groupby(\"Question\")[\"DataValue\"].count()\n",
    "diabetes_questions_counts"
   ]
  },
  {
   "cell_type": "code",
   "execution_count": 25,
   "metadata": {},
   "outputs": [
    {
     "data": {
      "text/plain": [
       "Question\n",
       "Census tracts with healthier food retailers within ½ mile of boundary                                                                                104\n",
       "Computer use among high school students                                                                                                               84\n",
       "Farmers markets that accept Supplemental Nutrition Assistance Program (SNAP) benefits                                                                 52\n",
       "Farmers markets that accept Women and Infant Children (WIC) farmers market nutrition program coupons                                                  38\n",
       "Healthy weight among adults aged >= 18 years                                                                                                        4035\n",
       "Healthy weight among high school students                                                                                                             87\n",
       "Infants breastfed at 6 months                                                                                                                        105\n",
       "Live births occurring at Baby Friendly Facilities                                                                                                    105\n",
       "Mean maternity practices in infant nutrition care (mPINC) score                                                                                      105\n",
       "Median daily frequency of fruit consumption among adults aged >= 18 years                                                                           1202\n",
       "Median daily frequency of fruit consumption among high school students                                                                                81\n",
       "Median daily frequency of vegetable consumption among adults aged >= 18 years                                                                       1212\n",
       "Median daily frequency of vegetable consumption among high school students                                                                            71\n",
       "Meeting aerobic physical activity guidelines among high school students                                                                               86\n",
       "Meeting aerobic physical activity guidelines for additional and more extensive health benefits among adults aged >= 18 years                        1590\n",
       "Meeting aerobic physical activity guidelines for substantial health benefits among adults aged >= 18 years                                          1606\n",
       "Meeting aerobic physical activity guidelines for substantial health benefits and for muscle-strengthening activity among adults aged >= 18 years    1513\n",
       "No leisure-time physical activity among adults aged >= 18 years                                                                                     3964\n",
       "Number of farmers markets per 100,000 residents                                                                                                       52\n",
       "Obesity among adults aged >= 18 years                                                                                                               4009\n",
       "Obesity among high school students                                                                                                                    87\n",
       "Overweight or obesity among adults aged >= 18 years                                                                                                 4062\n",
       "Overweight or obesity among high school students                                                                                                      87\n",
       "Overweight or obesity among women aged 18-44 years                                                                                                  1040\n",
       "Participation in daily school physical education classes among high school students                                                                   77\n",
       "Presence of regulations pertaining to avoiding sugar in early care and education settings                                                             51\n",
       "Presence of regulations pertaining to screen time in early care and education settings                                                                51\n",
       "Presence of regulations pertaining to serving fruit in early care and education settings                                                             102\n",
       "Presence of regulations pertaining to serving vegetables in early care and education settings                                                        102\n",
       "Receiving formula supplementation within the first 2 days of life among breastfed infants                                                            105\n",
       "Secondary schools that allow community-sponsored use of physical activity facilities by youth outside of normal school hours                          94\n",
       "Secondary schools that allow students to purchase soda or fruit drinks                                                                                94\n",
       "Secondary schools that allow students to purchase sports drinks                                                                                       93\n",
       "Secondary schools that offer less healthy foods as competitive foods                                                                                  94\n",
       "Soda consumption among high school students                                                                                                           82\n",
       "State child care regulation supports onsite breastfeeding                                                                                            102\n",
       "Television viewing among high school students                                                                                                         83\n",
       "Name: DataValue, dtype: int64"
      ]
     },
     "execution_count": 25,
     "metadata": {},
     "output_type": "execute_result"
    }
   ],
   "source": [
    "nutrition_physical_activity_weight_status_questions_counts = nutrition_physical_activity_weight_status_topics2.groupby(\"Question\")[\"DataValue\"].count()\n",
    "nutrition_physical_activity_weight_status_questions_counts"
   ]
  },
  {
   "cell_type": "code",
   "execution_count": 26,
   "metadata": {},
   "outputs": [
    {
     "data": {
      "text/plain": [
       "Question\n",
       "Current health care coverage among women aged 18-44 years              1057\n",
       "Current lack of health insurance among adults aged 18-64 years         3230\n",
       "Fair or poor self-rated health status among adults aged >= 18 years    3440\n",
       "Gini Index of income inequality                                         318\n",
       "Health insurance coverage before pregnancy                               23\n",
       "High school completion among adults aged 18-24 years                     53\n",
       "High school completion among women aged 18-44 years                      53\n",
       "Life expectancy at age 65 years                                          52\n",
       "Life expectancy at birth                                                 52\n",
       "Poverty                                                                  53\n",
       "Poverty among women aged 18-44 years                                     52\n",
       "Premature mortality among adults aged 45-64 years                      5478\n",
       "Prevalence of sufficient sleep among adults aged >= 18 years           1704\n",
       "Recent activity limitation among adults aged >= 18 years               3334\n",
       "Recent physically unhealthy days among adults aged >= 18 years         3492\n",
       "Self-rated health status among women aged 18-44 years                  1062\n",
       "Name: DataValue, dtype: int64"
      ]
     },
     "execution_count": 26,
     "metadata": {},
     "output_type": "execute_result"
    }
   ],
   "source": [
    "overarching_conditions_topics2_questions_counts = overarching_conditions_topics2.groupby(\"Question\")[\"DataValue\"].count()\n",
    "overarching_conditions_topics2_questions_counts"
   ]
  },
  {
   "cell_type": "code",
   "execution_count": 28,
   "metadata": {},
   "outputs": [
    {
     "data": {
      "text/plain": [
       "Question\n",
       "Amount of tobacco product excise tax                                                                                                                                                    153\n",
       "Cigarette smoking before pregnancy                                                                                                                                                       22\n",
       "Current cigarette smoking among women aged 18-44 years                                                                                                                                  968\n",
       "Current cigarette smoking among youth                                                                                                                                                    83\n",
       "Current smokeless tobacco use among adults aged >= 18 years                                                                                                                            2444\n",
       "Current smokeless tobacco use among youth                                                                                                                                                78\n",
       "Current smoking among adults aged >= 18 years                                                                                                                                          3936\n",
       "Percent tobacco revenue to fund at CDC recommended level                                                                                                                                102\n",
       "Pneumococcal vaccination among noninstitutionalized adults aged 18-64 years who smoke                                                                                                  2738\n",
       "Pneumococcal vaccination among noninstitutionalized adults aged >= 65 years who smoke                                                                                                  2052\n",
       "Proportion of the population protected by a comprehensive smoke-free policy prohibiting smoking in all indoor areas of workplaces and public places, including restaurants and bars     104\n",
       "Quit attempts in the past year among current smokers                                                                                                                                   3105\n",
       "Sale of cigarette packs                                                                                                                                                                 102\n",
       "Secondary schools that have a comprehensive tobacco-free school policy in place                                                                                                          94\n",
       "States that allow stronger local tobacco control and prevention laws                                                                                                                    162\n",
       "States with strong polices that require retail licenses to sell tobacco products                                                                                                        162\n",
       "Name: DataValue, dtype: int64"
      ]
     },
     "execution_count": 28,
     "metadata": {},
     "output_type": "execute_result"
    }
   ],
   "source": [
    "tobacco_questions_counts = tobacco_topics2.groupby(\"Question\")[\"DataValue\"].count()\n",
    "tobacco_questions_counts"
   ]
  },
  {
   "cell_type": "code",
   "execution_count": null,
   "metadata": {},
   "outputs": [],
   "source": []
  }
 ],
 "metadata": {
  "kernelspec": {
   "display_name": "Python 3",
   "language": "python",
   "name": "python3"
  },
  "language_info": {
   "codemirror_mode": {
    "name": "ipython",
    "version": 3
   },
   "file_extension": ".py",
   "mimetype": "text/x-python",
   "name": "python",
   "nbconvert_exporter": "python",
   "pygments_lexer": "ipython3",
   "version": "3.6.5"
  }
 },
 "nbformat": 4,
 "nbformat_minor": 2
}
