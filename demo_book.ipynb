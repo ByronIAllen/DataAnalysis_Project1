{
 "cells": [
  {
   "cell_type": "code",
   "execution_count": null,
   "metadata": {},
   "outputs": [],
   "source": [
    "# Dependencies\n",
    "\n",
    "import pandas as pd\n",
    "import matplotlib.pyplot as plt\n",
    "import numpy as np\n",
    "from Chronic Disease import Analyzed_data1 as clean_start\n"
   ]
  },
  {
   "cell_type": "code",
   "execution_count": null,
   "metadata": {},
   "outputs": [],
   "source": [
    "# Clean data a tiny bit further\n",
    "cleaned_df = clean_start.loc[(clean_start[\"DataValueType\"] == \"Crude Prevalence\"),:]"
   ]
  },
  {
   "cell_type": "code",
   "execution_count": null,
   "metadata": {},
   "outputs": [],
   "source": [
    "# Break by prevalence\n",
    "prevalence_df = cleaned_df.loc[(cleaned_df[\"Question\"] == \"Binge drinking prevalence among adults aged >= 18 years\") | \n",
    "                               (cleaned_df[\"Question\"] == \"Arthritis among adults aged >= 18 years\") | \n",
    "                               (cleaned_df[\"Question\"] == \"Current asthma prevalence among adults aged >= 18 years\")|                         \n",
    "                               (cleaned_df[\"Question\"] == \"High cholesterol prevalence among adults aged >= 18 years\") | \n",
    "                               (cleaned_df[\"Question\"] == \"Prevalence of diagnosed diabetes among adults aged >= 18 years\") | \n",
    "                               (cleaned_df[\"Question\"] == \"Overweight or obesity among adults aged >= 18 years\") | \n",
    "                               (cleaned_df[\"Question\"] == \"Obesity among adults aged >= 18 years\") | \n",
    "                               (cleaned_df[\"Question\"] == \"current smokeless tobacco use among adults aged >= 18 years\") | \n",
    "                               (cleaned_df[\"Question\"] == \"Current smoking among adults aged >= 18 years\"),:]\n",
    "\n",
    "# Check the prevalence data\n",
    "prevalence_df.head()"
   ]
  },
  {
   "cell_type": "code",
   "execution_count": null,
   "metadata": {},
   "outputs": [],
   "source": [
    "# Break by mortality\n",
    "mortality_df = [(cleaned_df[\"Question\"] == \"Chronic liver disease mortality\") | \n",
    "                (cleaned_df[\"Question\"] ==\"Asthma mortality rate\") | \n",
    "                (cleaned_df[\"Question\"] ==\"Cancer of the colon and recturm (colorectal), mortality\")|                              \n",
    "                (cleaned_df[\"Question\"] ==\"Cancer of the female breast, mortality\")|                                             \n",
    "                (cleaned_df[\"Question\"] ==\"Cancer of the female cervix, mortality\")|                                                 \n",
    "                (cleaned_df[\"Question\"] ==\"Cancer of the lung and bronchus, mortality\")|                                           \n",
    "                (cleaned_df[\"Question\"] ==\"Cancer of the oral cavity and pharynx, mortality\")|                                    \n",
    "                (cleaned_df[\"Question\"] ==\"Cancer of the prostate, mortality\")| \n",
    "                (cleaned_df[\"Question\"] ==\"Invasive cancer (all sites combined), mortality\") | \n",
    "                (cleaned_df[\"Question\"] ==\"Mortality from total cardiovascular diseases\") | \n",
    "                (cleaned_df[\"Question\"] ==\"Mortality due to diabetes reported as any listed cause of death\")\n",
    "                ,:]\n",
    "\n",
    "# Check the mortality data\n",
    "mortality_df.head()"
   ]
  },
  {
   "cell_type": "code",
   "execution_count": null,
   "metadata": {},
   "outputs": [],
   "source": [
    "# Break into gender group\n",
    "\n",
    "fem_prev = [(prevalence_df[\"Stratification1\"] == \"Female\"), :]\n",
    "\n",
    "fem_mort = [(mortality_df[\"Stratification1\"] == \"Female\"), :]\n",
    "\n",
    "# Figure out the male breakdown..."
   ]
  },
  {
   "cell_type": "code",
   "execution_count": null,
   "metadata": {},
   "outputs": [],
   "source": [
    "# Break into racial/ethnic demographic groups?\n",
    "\n"
   ]
  },
  {
   "cell_type": "code",
   "execution_count": null,
   "metadata": {},
   "outputs": [],
   "source": [
    "# Calculations\n",
    "\n"
   ]
  },
  {
   "cell_type": "code",
   "execution_count": null,
   "metadata": {},
   "outputs": [],
   "source": [
    "# Plot Time\n"
   ]
  },
  {
   "cell_type": "code",
   "execution_count": null,
   "metadata": {},
   "outputs": [],
   "source": []
  }
 ],
 "metadata": {
  "kernelspec": {
   "display_name": "Python 3",
   "language": "python",
   "name": "python3"
  },
  "language_info": {
   "codemirror_mode": {
    "name": "ipython",
    "version": 3
   },
   "file_extension": ".py",
   "mimetype": "text/x-python",
   "name": "python",
   "nbconvert_exporter": "python",
   "pygments_lexer": "ipython3",
   "version": "3.6.5"
  }
 },
 "nbformat": 4,
 "nbformat_minor": 2
}
